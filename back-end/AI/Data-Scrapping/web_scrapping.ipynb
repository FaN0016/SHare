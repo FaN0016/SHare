{
 "cells": [
  {
   "cell_type": "markdown",
   "metadata": {},
   "source": [
    "### Template for data_scrapping on twitter"
   ]
  },
  {
   "cell_type": "code",
   "execution_count": 16,
   "metadata": {},
   "outputs": [],
   "source": [
    "#install library first\n",
    "import os\n",
    "import tweepy as tw\n",
    "import pandas as pd\n",
    "import numpy as np"
   ]
  },
  {
   "cell_type": "markdown",
   "metadata": {},
   "source": [
    "### Use API Key you request on dev-twitter"
   ]
  },
  {
   "cell_type": "code",
   "execution_count": 17,
   "metadata": {},
   "outputs": [],
   "source": [
    "API_key = ''\n",
    "API_secret = ''\n",
    "access_token = ''\n",
    "access_token_secret = ''\n",
    "auth = tw.OAuthHandler(API_key, API_secret)\n",
    "auth.set_access_token(access_token, access_token_secret)\n",
    "api = tw.API(auth)"
   ]
  },
  {
   "cell_type": "markdown",
   "metadata": {},
   "source": [
    "### Searching twitt"
   ]
  },
  {
   "cell_type": "code",
   "execution_count": 35,
   "metadata": {},
   "outputs": [],
   "source": [
    "def get_related_tweets(key_word):\n",
    "    twitter_users = []\n",
    "    tweet_time = []\n",
    "    tweet_string = [] \n",
    "    for tweet in tw.Cursor(api.search_tweets,q=key_word, lang = 'id',  count=1000).items(1000):\n",
    "            if (not tweet.retweeted) and ('RT @' not in tweet.text):\n",
    "                twitter_users.append(tweet.user.name)\n",
    "                tweet_time.append(tweet.created_at)\n",
    "                tweet_string.append(tweet.text)\n",
    "                    #print([tweet.user.name,tweet.created_at,tweet.text])\n",
    "    df = pd.DataFrame({'name':twitter_users, 'time': tweet_time, 'tweet': tweet_string})\n",
    "    df.to_csv(f\"{key_word}.csv\")\n",
    "    return df"
   ]
  },
  {
   "cell_type": "code",
   "execution_count": 36,
   "metadata": {},
   "outputs": [
    {
     "data": {
      "text/html": [
       "<div>\n",
       "<style scoped>\n",
       "    .dataframe tbody tr th:only-of-type {\n",
       "        vertical-align: middle;\n",
       "    }\n",
       "\n",
       "    .dataframe tbody tr th {\n",
       "        vertical-align: top;\n",
       "    }\n",
       "\n",
       "    .dataframe thead th {\n",
       "        text-align: right;\n",
       "    }\n",
       "</style>\n",
       "<table border=\"1\" class=\"dataframe\">\n",
       "  <thead>\n",
       "    <tr style=\"text-align: right;\">\n",
       "      <th></th>\n",
       "      <th>name</th>\n",
       "      <th>time</th>\n",
       "      <th>tweet</th>\n",
       "    </tr>\n",
       "  </thead>\n",
       "  <tbody>\n",
       "    <tr>\n",
       "      <th>0</th>\n",
       "      <td>Ali (txtdariorangsambat)</td>\n",
       "      <td>2022-05-24 13:44:18+00:00</td>\n",
       "      <td>@DuitTerooosss @BearHugKaos @nirrvanass @itsyu...</td>\n",
       "    </tr>\n",
       "    <tr>\n",
       "      <th>1</th>\n",
       "      <td>cihoo</td>\n",
       "      <td>2022-05-24 13:41:31+00:00</td>\n",
       "      <td>@14Mazaya @ziyozyo @natadecoo_ PELECEHAN SEKSU...</td>\n",
       "    </tr>\n",
       "    <tr>\n",
       "      <th>2</th>\n",
       "      <td>cihoo</td>\n",
       "      <td>2022-05-24 13:40:52+00:00</td>\n",
       "      <td>@14Mazaya @natadecoo_ Tolol Lo!!!! PELECEHAN S...</td>\n",
       "    </tr>\n",
       "    <tr>\n",
       "      <th>3</th>\n",
       "      <td>ً🧚🏻‍♀️</td>\n",
       "      <td>2022-05-24 13:37:11+00:00</td>\n",
       "      <td>@janetktrn @detikcom lol idgaf he’s still pela...</td>\n",
       "    </tr>\n",
       "    <tr>\n",
       "      <th>4</th>\n",
       "      <td>sportstarsid</td>\n",
       "      <td>2022-05-24 13:32:20+00:00</td>\n",
       "      <td>Pebulu tangkis Indonesia, Yeremia Rambitan dik...</td>\n",
       "    </tr>\n",
       "  </tbody>\n",
       "</table>\n",
       "</div>"
      ],
      "text/plain": [
       "                       name                      time  \\\n",
       "0  Ali (txtdariorangsambat) 2022-05-24 13:44:18+00:00   \n",
       "1                     cihoo 2022-05-24 13:41:31+00:00   \n",
       "2                     cihoo 2022-05-24 13:40:52+00:00   \n",
       "3                    ً🧚🏻‍♀️ 2022-05-24 13:37:11+00:00   \n",
       "4              sportstarsid 2022-05-24 13:32:20+00:00   \n",
       "\n",
       "                                               tweet  \n",
       "0  @DuitTerooosss @BearHugKaos @nirrvanass @itsyu...  \n",
       "1  @14Mazaya @ziyozyo @natadecoo_ PELECEHAN SEKSU...  \n",
       "2  @14Mazaya @natadecoo_ Tolol Lo!!!! PELECEHAN S...  \n",
       "3  @janetktrn @detikcom lol idgaf he’s still pela...  \n",
       "4  Pebulu tangkis Indonesia, Yeremia Rambitan dik...  "
      ]
     },
     "execution_count": 36,
     "metadata": {},
     "output_type": "execute_result"
    }
   ],
   "source": [
    "tweets_df = get_related_tweets(\"pelecehan seksual\")\n",
    "tweets_df.head(5)"
   ]
  }
 ],
 "metadata": {
  "interpreter": {
   "hash": "916dbcbb3f70747c44a77c7bcd40155683ae19c65e1c03b4aa3499c5328201f1"
  },
  "kernelspec": {
   "display_name": "Python 3.8.10 64-bit",
   "language": "python",
   "name": "python3"
  },
  "language_info": {
   "codemirror_mode": {
    "name": "ipython",
    "version": 3
   },
   "file_extension": ".py",
   "mimetype": "text/x-python",
   "name": "python",
   "nbconvert_exporter": "python",
   "pygments_lexer": "ipython3",
   "version": "3.8.10"
  },
  "orig_nbformat": 4
 },
 "nbformat": 4,
 "nbformat_minor": 2
}
