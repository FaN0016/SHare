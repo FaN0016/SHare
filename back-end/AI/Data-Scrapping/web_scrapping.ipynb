{
 "cells": [
  {
   "cell_type": "markdown",
   "metadata": {},
   "source": [
    "### Template for data_scrapping on twitter"
   ]
  },
  {
   "cell_type": "code",
   "execution_count": 16,
   "metadata": {},
   "outputs": [],
   "source": [
    "#install library first\n",
    "import os\n",
    "import tweepy as tw\n",
    "import pandas as pd\n",
    "import numpy as np"
   ]
  },
  {
   "cell_type": "markdown",
   "metadata": {},
   "source": [
    "### Use API Key you request on dev-twitter"
   ]
  },
  {
   "cell_type": "code",
   "execution_count": 17,
   "metadata": {},
   "outputs": [],
   "source": [
    "API_key = ''\n",
    "API_secret = ''\n",
    "access_token = ''\n",
    "access_token_secret = ''\n",
    "auth = tw.OAuthHandler(API_key, API_secret)\n",
    "auth.set_access_token(access_token, access_token_secret)\n",
    "api = tw.API(auth)"
   ]
  },
  {
   "cell_type": "markdown",
   "metadata": {},
   "source": [
    "### Searching twitt"
   ]
  },
  {
   "cell_type": "code",
   "execution_count": 33,
   "metadata": {},
   "outputs": [],
   "source": [
    "def get_related_tweets(key_word):\n",
    "    twitter_users = []\n",
    "    tweet_time = []\n",
    "    tweet_string = [] \n",
    "    for tweet in tw.Cursor(api.search_tweets,q=key_word, lang = 'id',  count=1000).items(1000):\n",
    "            if (not tweet.retweeted) and ('RT @' not in tweet.text):\n",
    "                twitter_users.append(tweet.user.name)\n",
    "                tweet_time.append(tweet.created_at)\n",
    "                tweet_string.append(tweet.text)\n",
    "                    #print([tweet.user.name,tweet.created_at,tweet.text])\n",
    "    df = pd.DataFrame({'name':twitter_users, 'time': tweet_time, 'tweet': tweet_string})\n",
    "    df.to_csv(f\"{key_word}.csv\")\n",
    "    return df"
   ]
  },
  {
   "cell_type": "code",
   "execution_count": 34,
   "metadata": {},
   "outputs": [
    {
     "data": {
      "text/html": [
       "<div>\n",
       "<style scoped>\n",
       "    .dataframe tbody tr th:only-of-type {\n",
       "        vertical-align: middle;\n",
       "    }\n",
       "\n",
       "    .dataframe tbody tr th {\n",
       "        vertical-align: top;\n",
       "    }\n",
       "\n",
       "    .dataframe thead th {\n",
       "        text-align: right;\n",
       "    }\n",
       "</style>\n",
       "<table border=\"1\" class=\"dataframe\">\n",
       "  <thead>\n",
       "    <tr style=\"text-align: right;\">\n",
       "      <th></th>\n",
       "      <th>name</th>\n",
       "      <th>time</th>\n",
       "      <th>tweet</th>\n",
       "    </tr>\n",
       "  </thead>\n",
       "  <tbody>\n",
       "    <tr>\n",
       "      <th>0</th>\n",
       "      <td>sportstarsid</td>\n",
       "      <td>2022-05-24 13:32:20+00:00</td>\n",
       "      <td>Pebulu tangkis Indonesia, Yeremia Rambitan dik...</td>\n",
       "    </tr>\n",
       "    <tr>\n",
       "      <th>1</th>\n",
       "      <td>jamanchu</td>\n",
       "      <td>2022-05-24 13:29:13+00:00</td>\n",
       "      <td>Pelecehan seksual verbal dianggep biasa aja sa...</td>\n",
       "    </tr>\n",
       "    <tr>\n",
       "      <th>2</th>\n",
       "      <td>ariesgang</td>\n",
       "      <td>2022-05-24 13:23:38+00:00</td>\n",
       "      <td>@mommyaldilan @stephaniezen mon maap mba harus...</td>\n",
       "    </tr>\n",
       "    <tr>\n",
       "      <th>3</th>\n",
       "      <td>jamanchu</td>\n",
       "      <td>2022-05-24 13:19:16+00:00</td>\n",
       "      <td>Gws buat orang orang yang blg kasus yere “ ela...</td>\n",
       "    </tr>\n",
       "    <tr>\n",
       "      <th>4</th>\n",
       "      <td>Pandung_09</td>\n",
       "      <td>2022-05-24 13:18:36+00:00</td>\n",
       "      <td>Tolong dong, cukup artis pelaku pelecehan seks...</td>\n",
       "    </tr>\n",
       "  </tbody>\n",
       "</table>\n",
       "</div>"
      ],
      "text/plain": [
       "           name                      time  \\\n",
       "0  sportstarsid 2022-05-24 13:32:20+00:00   \n",
       "1      jamanchu 2022-05-24 13:29:13+00:00   \n",
       "2     ariesgang 2022-05-24 13:23:38+00:00   \n",
       "3      jamanchu 2022-05-24 13:19:16+00:00   \n",
       "4    Pandung_09 2022-05-24 13:18:36+00:00   \n",
       "\n",
       "                                               tweet  \n",
       "0  Pebulu tangkis Indonesia, Yeremia Rambitan dik...  \n",
       "1  Pelecehan seksual verbal dianggep biasa aja sa...  \n",
       "2  @mommyaldilan @stephaniezen mon maap mba harus...  \n",
       "3  Gws buat orang orang yang blg kasus yere “ ela...  \n",
       "4  Tolong dong, cukup artis pelaku pelecehan seks...  "
      ]
     },
     "execution_count": 34,
     "metadata": {},
     "output_type": "execute_result"
    }
   ],
   "source": [
    "tweets_df = get_related_tweets(\"pelecehan seksual\")\n",
    "tweets_df.head(5)"
   ]
  }
 ],
 "metadata": {
  "interpreter": {
   "hash": "916dbcbb3f70747c44a77c7bcd40155683ae19c65e1c03b4aa3499c5328201f1"
  },
  "kernelspec": {
   "display_name": "Python 3.8.10 64-bit",
   "language": "python",
   "name": "python3"
  },
  "language_info": {
   "codemirror_mode": {
    "name": "ipython",
    "version": 3
   },
   "file_extension": ".py",
   "mimetype": "text/x-python",
   "name": "python",
   "nbconvert_exporter": "python",
   "pygments_lexer": "ipython3",
   "version": "3.8.10"
  },
  "orig_nbformat": 4
 },
 "nbformat": 4,
 "nbformat_minor": 2
}
